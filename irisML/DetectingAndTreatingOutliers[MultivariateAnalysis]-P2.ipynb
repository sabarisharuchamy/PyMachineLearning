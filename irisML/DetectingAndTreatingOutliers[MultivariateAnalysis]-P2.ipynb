{
 "cells": [
  {
   "cell_type": "code",
   "execution_count": 4,
   "metadata": {},
   "outputs": [],
   "source": [
    "#Load libraries\n",
    "from sklearn.datasets import load_boston\n",
    "import copy \n",
    "import numpy as np\n",
    "import pandas as pd\n",
    "import seaborn as sns\n",
    "import scipy as sp\n",
    "from scipy.stats import chi2\n",
    "from sklearn.covariance import MinCovDet\n",
    "\n",
    "#Load data\n",
    "boston = load_boston()\n",
    "X, y = load_boston(return_X_y=True)\n",
    "\n",
    "#Create data frame\n",
    "columns = boston.feature_names\n",
    "df = pd.DataFrame(X, columns = columns)"
   ]
  },
  {
   "cell_type": "code",
   "execution_count": 5,
   "metadata": {},
   "outputs": [
    {
     "data": {
      "image/png": "[encoded data removed]",
      "text/plain": [
       "<Figure size 432x288 with 1 Axes>"
      ]
     },
     "metadata": {
      "needs_background": "light"
     },
     "output_type": "display_data"
    }
   ],
   "source": [
    "#Scatterpblot\n",
    "ax = sns.scatterplot(x=\"LSTAT\", y=\"CRIM\", data=df)"
   ]
  },
  {
   "cell_type": "code",
   "execution_count": 6,
   "metadata": {},
   "outputs": [],
   "source": [
    "#Mahalonibis Distance\n",
    "\n",
    "def mahalanobis_method(df):\n",
    "    #M-Distance\n",
    "    x_minus_mu = df - np.mean(df)\n",
    "    cov = np.cov(df.values.T)                           #Covariance\n",
    "    inv_covmat = sp.linalg.inv(cov)                     #Inverse covariance\n",
    "    left_term = np.dot(x_minus_mu, inv_covmat) \n",
    "    mahal = np.dot(left_term, x_minus_mu.T)\n",
    "    md = np.sqrt(mahal.diagonal())\n",
    "    \n",
    "    #Flag as outlier\n",
    "    outlier = []\n",
    "    #Cut-off point\n",
    "    C = np.sqrt(chi2.ppf((1-0.001), df=df.shape[1]))    #degrees of freedom = number of variables\n",
    "    for index, value in enumerate(md):\n",
    "        if value > C:\n",
    "            outlier.append(index)\n",
    "        else:\n",
    "            continue\n",
    "    return outlier, md\n",
    "\n",
    "outliers_mahal_bi, md_bi = mahalanobis_method(df=df_bivariate)"
   ]
  },
  {
   "cell_type": "code",
   "execution_count": 7,
   "metadata": {},
   "outputs": [
    {
     "data": {
      "text/plain": [
       "[152,\n",
       " 155,\n",
       " 214,\n",
       " 353,\n",
       " 364,\n",
       " 365,\n",
       " 367,\n",
       " 380,\n",
       " 405,\n",
       " 410,\n",
       " 414,\n",
       " 418,\n",
       " 488,\n",
       " 489,\n",
       " 490,\n",
       " 491,\n",
       " 492]"
      ]
     },
     "execution_count": 7,
     "metadata": {},
     "output_type": "execute_result"
    }
   ],
   "source": [
    "outliers_mahal_bi"
   ]
  },
  {
   "cell_type": "code",
   "execution_count": 8,
   "metadata": {},
   "outputs": [
    {
     "data": {
      "text/plain": [
       "array([ 2.7475433 ,  2.1475826 ,  2.22992563,  2.63223623,  2.67156878,\n",
       "        2.5462608 ,  2.46143968,  3.77489539,  5.06973569,  3.69799652,\n",
       "        4.10412371,  3.30637776,  2.80134502,  2.44191765,  2.52209363,\n",
       "        2.46244022,  3.20877319,  2.22434797,  3.30961606,  2.28046321,\n",
       "        2.87040716,  2.38884962,  2.64605694,  2.8755343 ,  2.61194437,\n",
       "        2.66411226,  2.59936324,  2.66876963,  2.75200453,  2.5910753 ,\n",
       "        2.96271267,  2.83708257,  4.06964179,  2.63507398,  3.23413335,\n",
       "        1.99259015,  1.97320639,  2.20668974,  2.60402024,  3.83622642,\n",
       "        3.94378887,  3.54555118,  3.24787949,  3.26969881,  2.12409317,\n",
       "        2.38011777,  2.51857979,  3.17419272,  4.9543289 ,  2.68126979,\n",
       "        2.34115426,  2.58691769,  2.3363676 ,  2.43508216,  4.96471496,\n",
       "        4.13494498,  3.80277052,  4.39757374,  2.85747642,  2.4321185 ,\n",
       "        3.0076083 ,  3.78922642,  3.08253783,  3.06905812,  4.27726848,\n",
       "        3.44834958,  3.69469345,  2.46168453,  2.36895698,  2.20943182,\n",
       "        3.44496494,  2.97374654,  3.35616014,  3.43789641,  3.88233506,\n",
       "        2.48021906,  2.54970805,  2.49415064,  2.49168022,  2.70494674,\n",
       "        1.61571761,  1.99714575,  1.6273051 ,  1.51115614,  1.71372652,\n",
       "        1.72735895,  2.06013858,  2.01892967,  2.68990678,  2.30914679,\n",
       "        2.26791356,  2.36328928,  3.08835312,  3.5920201 ,  3.29120049,\n",
       "        2.46611309,  2.53870121,  3.54264497,  3.53707808,  2.77286008,\n",
       "        2.61826437,  2.64241311,  4.80395966,  2.55079509,  2.73218077,\n",
       "        3.05506983,  3.01524508,  2.79147587,  2.89532634,  2.7161174 ,\n",
       "        2.74646152,  2.21276784,  2.55434289,  2.55114201,  2.36622979,\n",
       "        2.4138892 ,  2.07142197,  2.32233811,  2.34784356,  2.32028714,\n",
       "        5.45901769,  5.41941961,  5.44185958,  5.77225836,  5.45592034,\n",
       "        5.43045766,  5.86092132,  3.16304384,  3.43752772,  3.12603455,\n",
       "        3.49111925,  3.4513369 ,  3.52633178,  3.18057679,  3.37214965,\n",
       "        3.37769304,  3.14547556,  3.44267063,  3.33314544,  3.34180554,\n",
       "        3.86138772,  4.63290446,  5.83096063,  4.78849934,  5.07061353,\n",
       "        5.22270347,  4.92545502,  5.11465776,  4.94710034,  4.5058504 ,\n",
       "        4.53781457,  4.8140689 ,  6.11980113,  4.59282917,  5.47349411,\n",
       "        6.48588387,  5.68125781,  3.88651671,  4.09821095,  4.98916303,\n",
       "        5.02485326,  4.16284936,  5.29136602,  5.60800413,  3.50901887,\n",
       "        3.88107312,  4.37601894,  3.7002661 ,  3.48613488,  3.37329306,\n",
       "        3.47599414,  3.56865774,  3.28608751,  2.61596305,  2.79928913,\n",
       "        2.89513386,  2.4402343 ,  2.45312498,  2.2887321 ,  2.64670009,\n",
       "        3.28705062,  2.86553422,  3.19873207,  3.37918108,  3.41422403,\n",
       "        2.55106804,  3.17828989,  3.42687533,  3.23890075,  3.06778268,\n",
       "        2.86718544,  2.7121668 ,  2.85934006,  2.76008669,  2.56004189,\n",
       "        3.72262225,  3.8322242 ,  3.97545812,  3.92573487,  4.26301507,\n",
       "        4.31128247,  3.93621989,  3.91670985,  4.81619306,  4.87775548,\n",
       "        2.89739938,  1.5815448 ,  2.00190015,  4.13960991,  5.01206982,\n",
       "        4.39594091,  4.91728904,  4.33737097,  2.35548993,  6.00593405,\n",
       "        1.89092259,  4.28856891,  2.52370961,  4.36624416,  4.20754035,\n",
       "        4.22171047,  4.89023436,  4.07034856,  2.12558531,  3.35812834,\n",
       "        4.09456579,  3.21308509,  2.2209557 ,  3.89148255,  3.1327413 ,\n",
       "        1.99057425,  2.33608686,  3.43123198,  3.26706679,  4.00756513,\n",
       "        1.87573525,  4.0613787 ,  2.27327767,  2.05530504,  1.59381097,\n",
       "        2.1338248 ,  2.41816133,  2.24285069,  2.57577143,  3.71644026,\n",
       "        3.49067053,  2.57419228,  3.72802854,  2.53914901,  2.79591358,\n",
       "        2.59148699,  2.77134826,  3.83904935,  5.26374295,  3.67927969,\n",
       "        3.61955148,  3.96820495,  4.71913345,  3.92340769,  4.02334929,\n",
       "        3.65610969,  3.76889262,  4.3769294 ,  3.83092248,  3.76341553,\n",
       "        4.53953546,  3.84577129,  4.0984214 ,  3.36486652,  4.36550333,\n",
       "        2.15006206,  2.8674242 ,  1.87490541,  4.51664713,  4.49970601,\n",
       "        2.37950813,  4.21009866,  4.34931052,  2.55323289,  2.86124242,\n",
       "        3.03094578,  2.51046515,  4.37340139,  5.54483019,  3.68189934,\n",
       "        2.55016077,  3.74408659,  2.4418251 ,  2.57608046,  2.43347367,\n",
       "        4.50534825,  4.50347944,  4.55125367,  3.91765855,  3.51831045,\n",
       "        3.83374039,  3.69698991,  4.01358964,  3.17435023,  3.14427998,\n",
       "        3.30609805,  1.89217127,  2.42504508,  2.38668339,  3.04378522,\n",
       "        3.18664514,  3.46446856,  3.33745866,  2.14604025,  1.57475965,\n",
       "        3.51838376,  2.24709835,  1.82646245,  1.76181266,  1.69620061,\n",
       "        1.70572707,  1.7428815 ,  1.40561335,  1.13440188,  1.28944193,\n",
       "        1.62408965,  1.63829738,  1.76123353,  1.9798705 ,  1.98450025,\n",
       "        3.08414238,  2.44573779,  1.98584211,  4.15509407,  4.30120398,\n",
       "        4.00376641,  2.28423246,  2.16628505,  3.2849477 ,  3.22741186,\n",
       "        3.07772987,  2.67032849,  2.68200633,  2.79795934,  2.59705486,\n",
       "        2.49973604,  2.62133212,  4.91693039,  2.43280452,  2.52844383,\n",
       "        3.74318764,  3.8037194 ,  3.58509623,  3.2372533 ,  3.81804701,\n",
       "        3.73125621,  4.66857707,  4.47245258,  6.09645721,  5.22685825,\n",
       "        5.23620432,  4.53855038,  4.77351323,  4.90954893,  3.31139655,\n",
       "        3.66974799,  2.9924373 ,  4.04431943,  4.66888333,  6.14384816,\n",
       "        6.98226423,  3.60659827,  6.29438011,  5.70079807,  5.02506559,\n",
       "        5.06417454,  3.05857076,  4.75731872,  4.15739085,  4.79995047,\n",
       "        3.36852789,  2.93390868,  3.0037246 ,  3.2952115 ,  2.59800268,\n",
       "       12.38997655,  2.72002947,  2.56552761,  2.70282907,  3.49538286,\n",
       "        3.36598474,  3.65678571,  3.81672129,  3.22691915,  2.56401304,\n",
       "        2.45438602,  2.42667332,  2.84976471,  2.30533381,  2.31556462,\n",
       "        2.36081865,  2.58050409,  2.36810567,  4.93136429,  3.66591458,\n",
       "        3.42807426,  2.45114899,  2.35849005,  3.17590855,  4.96242309,\n",
       "        8.83178306,  4.18801593,  3.00822926,  3.20056377,  3.1430119 ,\n",
       "        7.87267479,  4.18787214,  5.12196134,  3.91250146,  6.02554663,\n",
       "        4.29313227,  4.44364028,  3.34948096,  9.74694635,  4.21586881,\n",
       "        2.14271686,  2.17529214,  2.52632273,  4.45890668,  4.68293297,\n",
       "        3.91077375,  4.40162568,  5.39537305,  3.32435695,  3.65372906,\n",
       "        3.6543909 ,  3.89000808,  3.72379323,  3.33545173,  3.18993964,\n",
       "        3.43049763,  3.86159593,  4.09494163,  4.57428163,  2.66048094,\n",
       "        2.97783839,  2.64624458,  2.68146499,  2.65262318,  2.20233463,\n",
       "        3.89714434,  2.3613114 ,  2.55388662,  2.40966756,  2.19775307,\n",
       "        4.36998145,  2.61359661,  2.51681803,  3.48877609,  4.22015497,\n",
       "        3.88395029,  4.24888872,  4.265514  ,  2.24202582,  2.59608086,\n",
       "        2.59743793,  2.70198259,  2.6671237 ,  2.98677329,  2.585427  ,\n",
       "        3.08728645,  4.22118404,  2.84347561,  2.52346293,  2.8930446 ,\n",
       "        2.78036318,  3.43038764,  2.80517867,  2.90982534,  2.8847122 ,\n",
       "        3.06064581,  2.78611946,  2.68373507,  2.35352271,  2.46291209,\n",
       "        3.16736637,  3.3974769 ,  3.58074864,  3.70972497,  3.34102689,\n",
       "        3.14523502,  2.71068484,  3.02516111,  6.03964622,  6.1020446 ,\n",
       "        6.35971871,  6.13297036,  6.15985346,  2.56263294,  2.99666594,\n",
       "        3.81411181,  2.48461188,  1.82275489,  2.06118595,  2.17094876,\n",
       "        1.82267874,  2.97438179,  2.94895421,  3.46526776,  3.27094062,\n",
       "        3.05919602])"
      ]
     },
     "execution_count": 8,
     "metadata": {},
     "output_type": "execute_result"
    }
   ],
   "source": [
    "md_bi"
   ]
  },
  {
   "cell_type": "code",
   "execution_count": null,
   "metadata": {},
   "outputs": [],
   "source": [
    "outliers_mahal, md = mahalanobis_method(df=df)"
   ]
  },
  {
   "cell_type": "code",
   "execution_count": null,
   "metadata": {},
   "outputs": [],
   "source": [
    "#Robust Mahalonibis Distance\n",
    "def robust_mahalanobis_method(df):\n",
    "    #Minimum covariance determinant\n",
    "    rng = np.random.RandomState(0)\n",
    "    real_cov = np.cov(df.values.T)\n",
    "    X = rng.multivariate_normal(mean=np.mean(df, axis=0), cov=real_cov, size=506)\n",
    "    cov = MinCovDet(random_state=0).fit(X)\n",
    "    mcd = cov.covariance_ #robust covariance metric\n",
    "    robust_mean = cov.location_  #robust mean\n",
    "    inv_covmat = sp.linalg.inv(mcd) #inverse covariance metric\n",
    "    \n",
    "    #Robust M-Distance\n",
    "    x_minus_mu = df - robust_mean\n",
    "    left_term = np.dot(x_minus_mu, inv_covmat)\n",
    "    mahal = np.dot(left_term, x_minus_mu.T)\n",
    "    md = np.sqrt(mahal.diagonal())\n",
    "    \n",
    "    #Flag as outlier\n",
    "    outlier = []\n",
    "    C = np.sqrt(chi2.ppf((1-0.001), df=df.shape[1]))#degrees of freedom = number of variables\n",
    "    for index, value in enumerate(md):\n",
    "        if value > C:\n",
    "            outlier.append(index)\n",
    "        else:\n",
    "            continue\n",
    "    return outlier, md\n",
    "\n",
    "outliers_mahal_rob_bi, md_rb_bi = robust_mahalanobis_method(df=df_bivariate)\n"
   ]
  },
  {
   "cell_type": "code",
   "execution_count": null,
   "metadata": {},
   "outputs": [],
   "source": [
    "outliers_mahal_rob, md_rb = robust_mahalanobis_method(df=df)"
   ]
  },
  {
   "cell_type": "code",
   "execution_count": null,
   "metadata": {},
   "outputs": [],
   "source": [
    "#Visualization\n",
    "#You need deep copy otherwise cannot \n",
    "#add column to a slice of a DataFrame\n",
    "df_bi_cp = copy.deepcopy(df_bivariate) \n",
    "\n",
    "#Add md and robust md to copy of dataframe\n",
    "df_bi_cp['md'] = md_bi\n",
    "df_bi_cp['md_robust'] = md_rb_bi\n",
    "\n",
    "def flag_outliers(df, outliers):\n",
    "    flag = []\n",
    "    for index in range(df.shape[0]):\n",
    "        if index in outliers:\n",
    "            flag.append(1)\n",
    "        else:\n",
    "            flag.append(0)\n",
    "    return flag\n",
    "\n",
    "#Flag outliers with 1, others with 0\n",
    "df_bi_cp['flag'] = flag_outliers(df_bivariate, outliers_mahal_bi)\n",
    "df_bi_cp['flag_rob'] = flag_outliers(df_bivariate, outliers_mahal_rob_bi)\n",
    "\n",
    "#MD classic\n",
    "ax = sns.scatterplot(x=\"LSTAT\", y=\"CRIM\", hue='flag', data=df_bi_cp)\n"
   ]
  },
  {
   "cell_type": "code",
   "execution_count": null,
   "metadata": {},
   "outputs": [],
   "source": [
    "#MD robust\n",
    "ax = sns.scatterplot(x=\"LSTAT\", y=\"CRIM\", hue='flag_rob', data=df_bi_cp)"
   ]
  }
 ],
 "metadata": {
  "kernelspec": {
   "display_name": "Python 3",
   "language": "python",
   "name": "python3"
  },
  "language_info": {
   "codemirror_mode": {
    "name": "ipython",
    "version": 3
   },
   "file_extension": ".py",
   "mimetype": "text/x-python",
   "name": "python",
   "nbconvert_exporter": "python",
   "pygments_lexer": "ipython3",
   "version": "3.8.5"
  }
 },
 "nbformat": 4,
 "nbformat_minor": 4
}
