{
 "cells": [
  {
   "cell_type": "markdown",
   "metadata": {
    "_uuid": "b9c6fb1d60cab653345aa76a190c8447da0b8c01"
   },
   "source": [
    "# Basics of Feature Selection with Python\n",
    "In machine learning, feature selection is the process of choosing a subset of input features that contribute the most to the output feature for use in model construction. Feature selection is substantially important if we have datasets with high dimensionality (i.e., large number of features). High-dimensional datasets are not preferred because they have lengthy training time and have high risk of overfitting. Feature selection helps to mitigate these problems by selecting features that have high importance to the model, such that the data dimensionality can be reduced without much loss of the total information. Some benefits of feature selection are:\n",
    "- Reduce training time\n",
    "- Reduce the risk of overfitting\n",
    "- Potentially increase model's performance \n",
    "- Reduce model's complexity such that interpretation becomes easier\n",
    "\n",
    "The objective of this notebook is to introduce the fundamental of feature selection in Python. I have tried to keep the notebook as basic as possible so that even newbies can understand every phase of it.  If you think this notebook gives something valuable to your journey to data science, PLEASE UPVOTE. It will keep me motivated.\n",
    "\n",
    "We will discuss three key methods to perform feature selection together with their implementation in Python:\n",
    "1. [Filter methods](#section 1.0.)\n",
    "2. [Wrapper methods](#section 2.0.)\n",
    "3. [Embedded methods](#section 3.0.)\n",
    "\n",
    "Before we get started, let's import the necessary Python libraries."
   ]
  },
  {
   "cell_type": "code",
   "execution_count": 1,
   "metadata": {
    "_uuid": "c2b02e3b3249a2ad73f90a75b14398f083f9d46d"
   },
   "outputs": [],
   "source": [
    "import numpy as np\n",
    "import pandas as pd\n",
    "\n",
    "import matplotlib.pyplot as plt\n",
    "import seaborn as sns\n",
    "sns.set(style=\"whitegrid\")\n",
    "\n",
    "import warnings\n",
    "warnings.filterwarnings('ignore')"
   ]
  },
  {
   "cell_type": "markdown",
   "metadata": {
    "_uuid": "f2a3cfeea0da19c79a7765c18a2e7413cf43af4e"
   },
   "source": [
    "We will do some demonstrations on how to implement each feature selection method in Python. To do that, we use Iris flower dataset. We import the Iris flower dataset from Scikit-learn by calling the following:"
   ]
  },
  {
   "cell_type": "code",
   "execution_count": 2,
   "metadata": {
    "_uuid": "1c02b8ca4bdee3f3921f92ad4a65ccaf34df677d"
   },
   "outputs": [
    {
     "data": {
      "text/html": [
       "<div>\n",
       "<style scoped>\n",
       "    .dataframe tbody tr th:only-of-type {\n",
       "        vertical-align: middle;\n",
       "    }\n",
       "\n",
       "    .dataframe tbody tr th {\n",
       "        vertical-align: top;\n",
       "    }\n",
       "\n",
       "    .dataframe thead th {\n",
       "        text-align: right;\n",
       "    }\n",
       "</style>\n",
       "<table border=\"1\" class=\"dataframe\">\n",
       "  <thead>\n",
       "    <tr style=\"text-align: right;\">\n",
       "      <th></th>\n",
       "      <th>sepal length (cm)</th>\n",
       "      <th>sepal width (cm)</th>\n",
       "      <th>petal length (cm)</th>\n",
       "      <th>petal width (cm)</th>\n",
       "    </tr>\n",
       "  </thead>\n",
       "  <tbody>\n",
       "    <tr>\n",
       "      <th>0</th>\n",
       "      <td>5.1</td>\n",
       "      <td>3.5</td>\n",
       "      <td>1.4</td>\n",
       "      <td>0.2</td>\n",
       "    </tr>\n",
       "    <tr>\n",
       "      <th>1</th>\n",
       "      <td>4.9</td>\n",
       "      <td>3.0</td>\n",
       "      <td>1.4</td>\n",
       "      <td>0.2</td>\n",
       "    </tr>\n",
       "    <tr>\n",
       "      <th>2</th>\n",
       "      <td>4.7</td>\n",
       "      <td>3.2</td>\n",
       "      <td>1.3</td>\n",
       "      <td>0.2</td>\n",
       "    </tr>\n",
       "    <tr>\n",
       "      <th>3</th>\n",
       "      <td>4.6</td>\n",
       "      <td>3.1</td>\n",
       "      <td>1.5</td>\n",
       "      <td>0.2</td>\n",
       "    </tr>\n",
       "    <tr>\n",
       "      <th>4</th>\n",
       "      <td>5.0</td>\n",
       "      <td>3.6</td>\n",
       "      <td>1.4</td>\n",
       "      <td>0.2</td>\n",
       "    </tr>\n",
       "  </tbody>\n",
       "</table>\n",
       "</div>"
      ],
      "text/plain": [
       "   sepal length (cm)  sepal width (cm)  petal length (cm)  petal width (cm)\n",
       "0                5.1               3.5                1.4               0.2\n",
       "1                4.9               3.0                1.4               0.2\n",
       "2                4.7               3.2                1.3               0.2\n",
       "3                4.6               3.1                1.5               0.2\n",
       "4                5.0               3.6                1.4               0.2"
      ]
     },
     "execution_count": 2,
     "metadata": {},
     "output_type": "execute_result"
    }
   ],
   "source": [
    "# Load Iris dataset from Scikit-learn\n",
    "from sklearn.datasets import load_iris\n",
    "\n",
    "# Create input and output features\n",
    "feature_names = load_iris().feature_names\n",
    "X_data = pd.DataFrame(load_iris().data, columns=feature_names)\n",
    "y_data = load_iris().target\n",
    "\n",
    "# Show the first five rows of the dataset\n",
    "X_data.head()"
   ]
  },
  {
   "cell_type": "markdown",
   "metadata": {
    "_uuid": "cc50d2722a9211e144a7240b7a67cbd76ab11a83"
   },
   "source": [
    "<a id='section 1.0.'></a>"
   ]
  },
  {
   "cell_type": "markdown",
   "metadata": {
    "_uuid": "6e3f2448551c34a72c998a75214ed8224f0fb4f7"
   },
   "source": [
    "# 1.0. Filter Methods\n",
    "In filter methods, features are selected independently from any machine algorithms. Filter methods generally use a specific criteria, such as scores in statistical test and variances, to rank the importance of individual features. Filter methods have some advantages:\n",
    "- Because of their independency to the selection of machine learning algorithms, they can be used as the input of any machine learning models. \n",
    "- They are generally effective in computation time.\n",
    "\n",
    "The main weakness of filter methods is that they do not consider the relationships among features. That's why they are mainly used as the pre-processing step of any feature selection pipeline. We will discuss three types of filter selection methods:\n",
    "1. [ANOVA F-value](#section 1.1.)\n",
    "2. [Variance Threshold](#section 1.2.)\n",
    "3. [Mutual Information](#section 1.3.)"
   ]
  },
  {
   "cell_type": "markdown",
   "metadata": {
    "_uuid": "8460594ac997f9111577b7d9ce935facf85ef937"
   },
   "source": [
    "<a id='section 1.1.'></a>"
   ]
  },
  {
   "cell_type": "markdown",
   "metadata": {
    "_uuid": "1e0d4ede941fc027fe1d91d46c0c98bf033114eb"
   },
   "source": [
    "## 1.1. ANOVA F-value\n",
    "ANOVA F-value method estimates the degree of linearity between the input feature (i.e., predictor) and the output feature. A high F-value indicates high degree of linearity and a low F-value indicates low degree of linearity. The main disadvantage of using ANOVA F-value is it only captures linear relationships between input and output feature. In other words, any non-linear relationships cannot be detected by F-value. \n",
    "\n",
    "We can use Scikit-learn to calculate ANOVA F-value. First, we need to load the library. Scikit-learn has two functions to calculate F-value:\n",
    "- **f_classif**, which calculate F-value between input and output feature for classification task\n",
    "- **f_regression**, which calculate F-value between input and output feature for classification task\n",
    "\n",
    "We will use **f_classif** because the Iris dataset entails classification task."
   ]
  },
  {
   "cell_type": "code",
   "execution_count": 3,
   "metadata": {
    "_uuid": "ee312cb9ac6d0e9cebaaac87db9f51daad4dfbc4"
   },
   "outputs": [],
   "source": [
    "# Import f_classif from Scikit-learn\n",
    "from sklearn.feature_selection import f_classif"
   ]
  },
  {
   "cell_type": "markdown",
   "metadata": {
    "_uuid": "6f31f86e0491c35b1b1438e8e3431480e0927613"
   },
   "source": [
    "Then, we calculate F-value for each input feature in the Iris dataset by calling the following:"
   ]
  },
  {
   "cell_type": "code",
   "execution_count": 4,
   "metadata": {
    "_uuid": "01c4d710bbcf6fa804eb4953050ec068b5a7eaff"
   },
   "outputs": [
    {
     "name": "stdout",
     "output_type": "stream",
     "text": [
      "('sepal length (cm)', 119.26450218449871)\n",
      "('sepal width (cm)', 49.16004008961098)\n",
      "('petal length (cm)', 1180.1611822529776)\n",
      "('petal width (cm)', 960.0071468018025)\n"
     ]
    }
   ],
   "source": [
    "# Create f_classif object to calculate F-value\n",
    "f_value = f_classif(X_data, y_data)\n",
    "\n",
    "# Print the name and F-value of each feature\n",
    "for feature in zip(feature_names, f_value[0]):\n",
    "    print(feature)"
   ]
  },
  {
   "cell_type": "markdown",
   "metadata": {
    "_uuid": "fbadc05f17540044479d34f6134aa33ce9b7c9a3"
   },
   "source": [
    "Let's visualize the results by creating a bar chart:"
   ]
  },
  {
   "cell_type": "code",
   "execution_count": 5,
   "metadata": {
    "_uuid": "2b128bd46f3eaf71728df34728e0bec914e929db"
   },
   "outputs": [
    {
     "data": {
      "image/png": "[encoded data removed]",
      "text/plain": [
       "<Figure size 288x288 with 1 Axes>"
      ]
     },
     "metadata": {},
     "output_type": "display_data"
    }
   ],
   "source": [
    "# Create a bar chart for visualizing the F-values\n",
    "plt.figure(figsize=(4,4))\n",
    "plt.bar(x=feature_names, height=f_value[0], color='tomato')\n",
    "plt.xticks(rotation='vertical')\n",
    "plt.ylabel('F-value')\n",
    "plt.title('F-value Comparison')\n",
    "plt.show()"
   ]
  },
  {
   "cell_type": "markdown",
   "metadata": {
    "_uuid": "6fefe6f14e47172b1932d6cc7986b6a9e045898b"
   },
   "source": [
    "<a id='section 1.2.'></a>"
   ]
  },
  {
   "cell_type": "markdown",
   "metadata": {
    "_uuid": "8c3b6fb574b78704f0900b4454fde9b4c0b9c65b"
   },
   "source": [
    "## 1.2. Variance Threshold\n",
    "Variance threshold method removes features whose variance below a pre-defined cutoff value. It is based on the notion that features that do not vary much within themselves have low predictive power. The main weakness of variance threshold is that it does not consider  the relationship of input features with the output feature.\n",
    "\n",
    "It should be noted that, before performing variance thresholding, all features should be standardized so they will have the same scale. \n",
    "\n",
    "Scikit-learn provides **VarianceThreshold** function to perform variance threshold method."
   ]
  },
  {
   "cell_type": "code",
   "execution_count": 6,
   "metadata": {
    "_uuid": "c2baccaf7f3a155083278205456b34de77e8464e"
   },
   "outputs": [],
   "source": [
    "# Import VarianceThreshold from Scikit-learn\n",
    "from sklearn.feature_selection import VarianceThreshold"
   ]
  },
  {
   "cell_type": "markdown",
   "metadata": {
    "_uuid": "55ee5f4cada922c6245a95663d3a5084d221385c"
   },
   "source": [
    "Then, we perform variance thresholding by calling the following:"
   ]
  },
  {
   "cell_type": "code",
   "execution_count": 7,
   "metadata": {
    "_uuid": "3d8f462a58d4e4c7821af37c93bc44fd13c5000d"
   },
   "outputs": [
    {
     "name": "stdout",
     "output_type": "stream",
     "text": [
      "('sepal length (cm)', 0.6811222222222222)\n",
      "('sepal width (cm)', 0.1887128888888887)\n",
      "('petal length (cm)', 3.0955026666666674)\n",
      "('petal width (cm)', 0.5771328888888888)\n"
     ]
    }
   ],
   "source": [
    "# Create VarianceThreshold object to perform variance thresholding\n",
    "selector = VarianceThreshold()\n",
    "\n",
    "# Perform variance thresholding\n",
    "selector.fit_transform(X_data)\n",
    "\n",
    "# Print the name and variance of each feature\n",
    "for feature in zip(feature_names, selector.variances_):\n",
    "    print(feature)"
   ]
  },
  {
   "cell_type": "markdown",
   "metadata": {
    "_uuid": "5d6b6ceaf1f5a6b6d15d74c9b156be3d6d6a0ba9"
   },
   "source": [
    "Let's visualize the results by creating a bar chart:"
   ]
  },
  {
   "cell_type": "code",
   "execution_count": 8,
   "metadata": {
    "_uuid": "e2448520d9b54098ed25a0894d78f50f9827e252"
   },
   "outputs": [
    {
     "data": {
      "image/png": "[encoded data removed]",
      "text/plain": [
       "<Figure size 288x288 with 1 Axes>"
      ]
     },
     "metadata": {},
     "output_type": "display_data"
    }
   ],
   "source": [
    "# Create a bar chart for visualizing the variances\n",
    "plt.figure(figsize=(4,4))\n",
    "plt.bar(x=feature_names, height=selector.variances_, color='tomato')\n",
    "plt.xticks(rotation='vertical')\n",
    "plt.ylabel('Variance')\n",
    "plt.title('Variance Comparison')\n",
    "\n",
    "plt.show()"
   ]
  },
  {
   "cell_type": "markdown",
   "metadata": {
    "_uuid": "1e13b73935fa835fb1d8e48917c644e24afe750e"
   },
   "source": [
    "By default, **VarianceThreshold** removes only zero-variance features. Zero-variance feature means that the feature has the same value in all instances. Suppose we want to eliminate features that have variance score below 0.2, we can specify *threshold* parameter."
   ]
  },
  {
   "cell_type": "code",
   "execution_count": 9,
   "metadata": {
    "_uuid": "b8cccfb78fd4c12768ad3b282f85f769fac70b28"
   },
   "outputs": [
    {
     "name": "stdout",
     "output_type": "stream",
     "text": [
      "Number of features before variance thresholding: 4\n",
      "Number of features after variance thresholding: 3\n"
     ]
    }
   ],
   "source": [
    "# Create VarianceThreshold object to perform variance thresholding\n",
    "selector = VarianceThreshold(threshold=0.2)\n",
    "\n",
    "# Transform the dataset according to variance thresholding\n",
    "X_data_new = selector.fit_transform(X_data)\n",
    "\n",
    "# Print the results\n",
    "print('Number of features before variance thresholding: {}'.format(X_data.shape[1]))\n",
    "print('Number of features after variance thresholding: {}'.format(X_data_new.shape[1]))"
   ]
  },
  {
   "cell_type": "markdown",
   "metadata": {
    "_uuid": "5cabdba6e7abe45baee1176e9df68f6117d34d34"
   },
   "source": [
    "As we can see, **VarianceThreshold** automatically eliminate features that have variance below 0.2. In this case, it removes **sepal width**, which has 0.188 variance. "
   ]
  },
  {
   "cell_type": "markdown",
   "metadata": {
    "_uuid": "9fd7b3164a6e331e1562797d21bac07bc183d431"
   },
   "source": [
    "<a id='section 1.3.'></a>"
   ]
  },
  {
   "cell_type": "markdown",
   "metadata": {
    "_uuid": "27ff211b36c7bfe90988fd88857c6cbeef9f971f"
   },
   "source": [
    "## 1.3. Mutual Information\n",
    "Mutual information (MI) measures the dependence of one variable to another by quantifying the amount of information obtained about one feature, through the other feature. MI is symmetric and non-negative, and is zero if and only if the input and output feature are independent. Unlike ANOVA F-value, mutual information can capture non-linear relationships between input and output feature.\n",
    "\n",
    "We can use Scikit-learn to calculate MI. Scikit-learn has two functions to calculate MI:\n",
    "- **mutual_info_classif**, which calculate MI for classification task\n",
    "- **mutual_info_regression**, which calculate MI for regression task \n",
    "\n",
    "We will use **mutual_info_classif** because the Iris dataset entails a classification task."
   ]
  },
  {
   "cell_type": "code",
   "execution_count": 10,
   "metadata": {
    "_uuid": "b593d36d7a9b5656b7fe0375eeb995b4989538ff"
   },
   "outputs": [],
   "source": [
    "# Import mutual_info_classif from Scikit-learn\n",
    "from sklearn.feature_selection import mutual_info_classif"
   ]
  },
  {
   "cell_type": "markdown",
   "metadata": {
    "_uuid": "7c9ef7fead351b6e6c0b3309dd5b74fe5ae898f2"
   },
   "source": [
    "Then, we calculate MI by calling the following:"
   ]
  },
  {
   "cell_type": "code",
   "execution_count": 11,
   "metadata": {
    "_uuid": "953fe77c54f238532715a04d511f273bea8c12c2"
   },
   "outputs": [
    {
     "name": "stdout",
     "output_type": "stream",
     "text": [
      "('sepal length (cm)', 0.4738732342805525)\n",
      "('sepal width (cm)', 0.28607227699171767)\n",
      "('petal length (cm)', 0.9895851732491787)\n",
      "('petal width (cm)', 0.9749379656705233)\n"
     ]
    }
   ],
   "source": [
    "# Create mutual_info_classif object to calculate mutual information\n",
    "MI_score = mutual_info_classif(X_data, y_data, random_state=0)\n",
    "\n",
    "# Print the name and mutual information score of each feature\n",
    "for feature in zip(feature_names, MI_score):\n",
    "    print(feature)"
   ]
  },
  {
   "cell_type": "markdown",
   "metadata": {
    "_uuid": "21f4c3eed16f5e5de7f2ea61235f430f5bbabcbd"
   },
   "source": [
    "Let's visualize the results by creating a bar chart:"
   ]
  },
  {
   "cell_type": "code",
   "execution_count": 12,
   "metadata": {
    "_uuid": "8c7f55e73512ec65058ff7493caa92dffb965572"
   },
   "outputs": [
    {
     "data": {
      "image/png": "[encoded data removed]",
      "text/plain": [
       "<Figure size 288x288 with 1 Axes>"
      ]
     },
     "metadata": {},
     "output_type": "display_data"
    }
   ],
   "source": [
    "# Create a bar chart for visualizing the mutual information scores\n",
    "plt.figure(figsize=(4,4))\n",
    "plt.bar(x=feature_names, height=MI_score, color='tomato')\n",
    "plt.xticks(rotation='vertical')\n",
    "plt.ylabel('Mutual Information Score')\n",
    "plt.title('Mutual Information Score Comparison')\n",
    "\n",
    "plt.show()"
   ]
  },
  {
   "cell_type": "markdown",
   "metadata": {
    "_uuid": "61ecf938365dbbf06bfc476312173b91f17a6773"
   },
   "source": [
    "## 1.4. Using Selector Object for Selecting Features\n",
    "We can use **SelectKBest** from Scikit-learn to select features according to the k highest scores, determined by a filter method. First, we need to import **SelectKBest**. "
   ]
  },
  {
   "cell_type": "code",
   "execution_count": 13,
   "metadata": {
    "_uuid": "827b50901c9c99eb50ecbe294228c1abefcd216e"
   },
   "outputs": [],
   "source": [
    "# Import SelectKBest from Scikit-learn\n",
    "from sklearn.feature_selection import SelectKBest"
   ]
  },
  {
   "cell_type": "markdown",
   "metadata": {
    "_uuid": "c2c25adbcb75afffcf4386e8ba477893acf60d1e"
   },
   "source": [
    "**SelectKBest** has two important parameters:\n",
    "- *score_func*: the filter function that is used for feature selection \n",
    "- *k*: the number of top features to select \n",
    "\n",
    "Let's demonstrate **SelectKBest** by using ANOVA F-value as our filter method. We will select the top two features based on the ANOVA F-value."
   ]
  },
  {
   "cell_type": "code",
   "execution_count": 14,
   "metadata": {
    "_uuid": "5673f16f9f1d264fdd1401b737a22796dea00efa"
   },
   "outputs": [
    {
     "name": "stdout",
     "output_type": "stream",
     "text": [
      "Number of features before feature selection: 4\n",
      "Number of features after feature selection: 2\n"
     ]
    }
   ],
   "source": [
    "# Create a SelectKBest object\n",
    "skb = SelectKBest(score_func=f_classif, # Set f_classif as our criteria to select features\n",
    "                  k=2)                  # Select top two features based on the criteria\n",
    "\n",
    "# Train and transform the dataset according to the SelectKBest\n",
    "X_data_new = skb.fit_transform(X_data, y_data)\n",
    "\n",
    "# Print the results\n",
    "print('Number of features before feature selection: {}'.format(X_data.shape[1]))\n",
    "print('Number of features after feature selection: {}'.format(X_data_new.shape[1]))"
   ]
  },
  {
   "cell_type": "markdown",
   "metadata": {
    "_uuid": "dd4d9f8ba6948d84f7cad9817feb9a5de8a93c8b"
   },
   "source": [
    "As we can see, **SelectKBest** automatically eliminate two features that have the lowest F-value. \n",
    "\n",
    "We can identify the name of selected features by calling **get_support** method. "
   ]
  },
  {
   "cell_type": "code",
   "execution_count": 15,
   "metadata": {
    "_uuid": "d734bbe53ed5af9c745da8200aaba25abbc8606b"
   },
   "outputs": [
    {
     "name": "stdout",
     "output_type": "stream",
     "text": [
      "- petal length (cm)\n",
      "- petal width (cm)\n"
     ]
    }
   ],
   "source": [
    "# Print the name of the selected features\n",
    "for feature_list_index in skb.get_support(indices=True):\n",
    "    print('- ' + feature_names[feature_list_index])"
   ]
  },
  {
   "cell_type": "markdown",
   "metadata": {
    "_uuid": "bb66b3c7f2b5406fdc3d8fba6587c0353441e9fc"
   },
   "source": [
    "An alternative of **SelectKBest** is to use **SelectPercentile**, which select features according to a percentile of the highest scores."
   ]
  },
  {
   "cell_type": "markdown",
   "metadata": {
    "_uuid": "3b5d256fb3cd9fb2f27c6fd369f8913dc81895de"
   },
   "source": [
    "<a id='section 2.0.'></a>"
   ]
  },
  {
   "cell_type": "markdown",
   "metadata": {
    "_uuid": "2a11e9b254a62716e2cb2f154eaf9e73b12643dc"
   },
   "source": [
    "# 2.0. Wrapper Methods\n",
    "Wrapper methods try to find a subset of features that yield the best performance for a model by training, evaluating, and comparing the model with different combinations of features. Wrapper methods enable the detection of relationships among features. However, they can be computationally expensive, especially if the number of features is high. The risk of overfitting is also high if the number of instances in the dataset is insufficient. \n",
    "\n",
    "There are some diferrences between filter and wrapper methods:\n",
    "- Filter methods do not incorporate a machine learning model in order to determine if a feature is good or bad whereas wrapper methods use a machine learning model and train it the feature to decide if it is essential or not.\n",
    "- Filter methods are much faster compared to wrapper methods as they do not involve training the models. On the other hand, wrapper methods are computationally costly, and in the case of massive datasets, wrapper methods are not the most effective feature selection method to consider.\n",
    "- Filter methods may fail to find the best subset of features in situations when there is not enough data to model the statistical correlation of the features, but wrapper methods can always provide the best subset of features because of their exhaustive nature.\n",
    "- Using features from wrapper methods in your final machine learning model can lead to overfitting as wrapper methods already train machine learning models with the features and it affects the true power of learning. But the features from filter methods will not lead to overfitting in most of the cases.\n",
    "\n",
    "We will discuss three wrapper methods:\n",
    "1. [Exhaustive feature selection (EFS)](#section 2.1.)\n",
    "2. [Sequential forward selection (SFS)](#section 2.2.)\n",
    "3. [Sequential backward selection (SBS)](#section 2.3.)\n",
    "\n",
    "Each will be discussed in the following."
   ]
  },
  {
   "cell_type": "markdown",
   "metadata": {
    "_uuid": "d889be6176b7d5dd93a91c3e8444dc5fbaa9eb68"
   },
   "source": [
    "<a id='section 2.1.'></a>"
   ]
  },
  {
   "cell_type": "markdown",
   "metadata": {
    "_uuid": "46acdffd59a6b0bf7731b1ad242721546bd4e4f8"
   },
   "source": [
    "## 2.1. Exhaustive Feature Selection (EFS)\n",
    "EFS finds the best subset of features by evaluating all feature combinations. Suppose we have a dataset with three features. EFS will evaluate the following feature combinations:\n",
    "- *feature_1*\n",
    "- *feature_2*\n",
    "- *feature_3*\n",
    "- *feature_1* and *feature_2*\n",
    "- *feature_1* and *feature_3*\n",
    "- *feature_2* and *feature_3*\n",
    "- *feature_1*, *feature_2*, and *feature_3*\n",
    "\n",
    "EFS selects a subset that generates the best performance (e.g., accuracy, precision, recall, etc.) of the model being considered.\n",
    "\n",
    "Mlxtend provides **ExhaustiveFeatureSelector** function to perform EFS."
   ]
  },
  {
   "cell_type": "code",
   "execution_count": 16,
   "metadata": {
    "_uuid": "0851012b3a67a2dff9cf4ebcec994447441a8b79"
   },
   "outputs": [],
   "source": [
    "# Import ExhaustiveFeatureSelector from Mlxtend\n",
    "from mlxtend.feature_selection import ExhaustiveFeatureSelector as EFS"
   ]
  },
  {
   "cell_type": "markdown",
   "metadata": {
    "_uuid": "7c9604e5c670d03f1ebf85c77cca9fd746df6c6c"
   },
   "source": [
    "EFS has five important parameters:\n",
    "- *estimator*: the classifier that we intend to train\n",
    "- *min_features*: the minimum number of features to select\n",
    "- *max_features*: the maximum number of features to select\n",
    "- *scoring*: the metric to use to evaluate the classifier\n",
    "- *cv*: the number of cross-validations to perform\n",
    "\n",
    "In this example, we use logistic regression as our classifier/estimator. "
   ]
  },
  {
   "cell_type": "code",
   "execution_count": 17,
   "metadata": {
    "_uuid": "720eb086a1b3020e16834e16a2f650008e4c5306"
   },
   "outputs": [],
   "source": [
    "# Import logistic regression from Scikit-learn\n",
    "from sklearn.linear_model import LogisticRegression"
   ]
  },
  {
   "cell_type": "markdown",
   "metadata": {
    "_uuid": "37e45fa55db6b42a90d00ef0c43aee392a8acc1c"
   },
   "source": [
    "Then, we perform EFS by calling the following:"
   ]
  },
  {
   "cell_type": "code",
   "execution_count": 18,
   "metadata": {
    "_uuid": "fd45f06a559a1b2c5d1036d91b837b7949f8a7af",
    "scrolled": true
   },
   "outputs": [
    {
     "name": "stderr",
     "output_type": "stream",
     "text": [
      "Features: 15/15"
     ]
    },
    {
     "name": "stdout",
     "output_type": "stream",
     "text": [
      "Best accuracy score: 0.97\n",
      "Best subset (indices): (0, 1, 2, 3)\n",
      "Best subset (corresponding names): ('sepal length (cm)', 'sepal width (cm)', 'petal length (cm)', 'petal width (cm)')\n"
     ]
    }
   ],
   "source": [
    "# Create a logistic regression classifier\n",
    "lr = LogisticRegression()\n",
    "\n",
    "# Create an EFS object\n",
    "efs = EFS(estimator=lr,        # Use logistic regression as the classifier/estimator\n",
    "          min_features=1,      # The minimum number of features to consider is 1\n",
    "          max_features=4,      # The maximum number of features to consider is 4\n",
    "          scoring='accuracy',  # The metric to use to evaluate the classifier is accuracy \n",
    "          cv=5)                # The number of cross-validations to perform is 5\n",
    "\n",
    "# Train EFS with our dataset\n",
    "efs = efs.fit(X_data, y_data)\n",
    "\n",
    "# Print the results\n",
    "print('Best accuracy score: %.2f' % efs.best_score_) # best_score_ shows the best score \n",
    "print('Best subset (indices):', efs.best_idx_)       # best_idx_ shows the index of features that yield the best score \n",
    "print('Best subset (corresponding names):', efs.best_feature_names_) # best_feature_names_ shows the feature names \n",
    "                                                                     # that yield the best score"
   ]
  },
  {
   "cell_type": "markdown",
   "metadata": {
    "_uuid": "ac264f32eb73a97271b16cb24ae37aafdb49482a"
   },
   "source": [
    "We can transform the dataset into a new dataset containing only the subset of features that generates the best score by using **transform** method."
   ]
  },
  {
   "cell_type": "code",
   "execution_count": 19,
   "metadata": {
    "_uuid": "3be71bd96d6fae6aced7e49052f557fdda7cc800"
   },
   "outputs": [
    {
     "name": "stdout",
     "output_type": "stream",
     "text": [
      "Number of features before transformation: 4\n",
      "Number of features after transformation: 4\n"
     ]
    }
   ],
   "source": [
    "# Transform the dataset\n",
    "X_data_new = efs.transform(X_data)\n",
    "\n",
    "# Print the results\n",
    "print('Number of features before transformation: {}'.format(X_data.shape[1]))\n",
    "print('Number of features after transformation: {}'.format(X_data_new.shape[1]))"
   ]
  },
  {
   "cell_type": "markdown",
   "metadata": {
    "_uuid": "a87eaf45c539d05e219b2a5c976730cb55576dc9"
   },
   "source": [
    "There is no difference between the dataset after and before the transformation because the subset that yields the best score include all of the features.\n",
    "\n",
    "We can see the performance of each subset of features by calling **get_metric_dict**."
   ]
  },
  {
   "cell_type": "code",
   "execution_count": 20,
   "metadata": {
    "_uuid": "98423d18aa23aa2e89a6a5a721063f1d5ec59287"
   },
   "outputs": [
    {
     "data": {
      "text/html": [
       "<div>\n",
       "<style scoped>\n",
       "    .dataframe tbody tr th:only-of-type {\n",
       "        vertical-align: middle;\n",
       "    }\n",
       "\n",
       "    .dataframe tbody tr th {\n",
       "        vertical-align: top;\n",
       "    }\n",
       "\n",
       "    .dataframe thead th {\n",
       "        text-align: right;\n",
       "    }\n",
       "</style>\n",
       "<table border=\"1\" class=\"dataframe\">\n",
       "  <thead>\n",
       "    <tr style=\"text-align: right;\">\n",
       "      <th></th>\n",
       "      <th>feature_idx</th>\n",
       "      <th>cv_scores</th>\n",
       "      <th>avg_score</th>\n",
       "      <th>feature_names</th>\n",
       "      <th>ci_bound</th>\n",
       "      <th>std_dev</th>\n",
       "      <th>std_err</th>\n",
       "    </tr>\n",
       "  </thead>\n",
       "  <tbody>\n",
       "    <tr>\n",
       "      <th>1</th>\n",
       "      <td>(1,)</td>\n",
       "      <td>[0.5333333333333333, 0.5666666666666667, 0.533...</td>\n",
       "      <td>0.566667</td>\n",
       "      <td>(sepal width (cm),)</td>\n",
       "      <td>0.0469322</td>\n",
       "      <td>0.0365148</td>\n",
       "      <td>0.0182574</td>\n",
       "    </tr>\n",
       "    <tr>\n",
       "      <th>0</th>\n",
       "      <td>(0,)</td>\n",
       "      <td>[0.6666666666666666, 0.7333333333333333, 0.766...</td>\n",
       "      <td>0.753333</td>\n",
       "      <td>(sepal length (cm),)</td>\n",
       "      <td>0.0696117</td>\n",
       "      <td>0.0541603</td>\n",
       "      <td>0.0270801</td>\n",
       "    </tr>\n",
       "    <tr>\n",
       "      <th>4</th>\n",
       "      <td>(0, 1)</td>\n",
       "      <td>[0.7333333333333333, 0.8333333333333334, 0.766...</td>\n",
       "      <td>0.813333</td>\n",
       "      <td>(sepal length (cm), sepal width (cm))</td>\n",
       "      <td>0.0696117</td>\n",
       "      <td>0.0541603</td>\n",
       "      <td>0.0270801</td>\n",
       "    </tr>\n",
       "    <tr>\n",
       "      <th>8</th>\n",
       "      <td>(1, 3)</td>\n",
       "      <td>[0.9333333333333333, 0.9666666666666667, 0.9, ...</td>\n",
       "      <td>0.94</td>\n",
       "      <td>(sepal width (cm), petal width (cm))</td>\n",
       "      <td>0.0320608</td>\n",
       "      <td>0.0249444</td>\n",
       "      <td>0.0124722</td>\n",
       "    </tr>\n",
       "    <tr>\n",
       "      <th>11</th>\n",
       "      <td>(0, 1, 3)</td>\n",
       "      <td>[0.9, 0.9666666666666667, 0.9333333333333333, ...</td>\n",
       "      <td>0.946667</td>\n",
       "      <td>(sepal length (cm), sepal width (cm), petal wi...</td>\n",
       "      <td>0.0436915</td>\n",
       "      <td>0.0339935</td>\n",
       "      <td>0.0169967</td>\n",
       "    </tr>\n",
       "    <tr>\n",
       "      <th>2</th>\n",
       "      <td>(2,)</td>\n",
       "      <td>[0.9333333333333333, 1.0, 0.9, 0.9333333333333...</td>\n",
       "      <td>0.953333</td>\n",
       "      <td>(petal length (cm),)</td>\n",
       "      <td>0.0514116</td>\n",
       "      <td>0.04</td>\n",
       "      <td>0.02</td>\n",
       "    </tr>\n",
       "    <tr>\n",
       "      <th>5</th>\n",
       "      <td>(0, 2)</td>\n",
       "      <td>[0.9333333333333333, 1.0, 0.9, 0.9333333333333...</td>\n",
       "      <td>0.953333</td>\n",
       "      <td>(sepal length (cm), petal length (cm))</td>\n",
       "      <td>0.0514116</td>\n",
       "      <td>0.04</td>\n",
       "      <td>0.02</td>\n",
       "    </tr>\n",
       "    <tr>\n",
       "      <th>6</th>\n",
       "      <td>(0, 3)</td>\n",
       "      <td>[0.9333333333333333, 0.9666666666666667, 0.933...</td>\n",
       "      <td>0.953333</td>\n",
       "      <td>(sepal length (cm), petal width (cm))</td>\n",
       "      <td>0.0342744</td>\n",
       "      <td>0.0266667</td>\n",
       "      <td>0.0133333</td>\n",
       "    </tr>\n",
       "    <tr>\n",
       "      <th>7</th>\n",
       "      <td>(1, 2)</td>\n",
       "      <td>[0.9333333333333333, 1.0, 0.9, 0.9333333333333...</td>\n",
       "      <td>0.953333</td>\n",
       "      <td>(sepal width (cm), petal length (cm))</td>\n",
       "      <td>0.0514116</td>\n",
       "      <td>0.04</td>\n",
       "      <td>0.02</td>\n",
       "    </tr>\n",
       "    <tr>\n",
       "      <th>10</th>\n",
       "      <td>(0, 1, 2)</td>\n",
       "      <td>[0.9333333333333333, 1.0, 0.9, 0.9333333333333...</td>\n",
       "      <td>0.953333</td>\n",
       "      <td>(sepal length (cm), sepal width (cm), petal le...</td>\n",
       "      <td>0.0514116</td>\n",
       "      <td>0.04</td>\n",
       "      <td>0.02</td>\n",
       "    </tr>\n",
       "    <tr>\n",
       "      <th>3</th>\n",
       "      <td>(3,)</td>\n",
       "      <td>[1.0, 0.9666666666666667, 0.9, 0.9333333333333...</td>\n",
       "      <td>0.96</td>\n",
       "      <td>(petal width (cm),)</td>\n",
       "      <td>0.0499631</td>\n",
       "      <td>0.038873</td>\n",
       "      <td>0.0194365</td>\n",
       "    </tr>\n",
       "    <tr>\n",
       "      <th>9</th>\n",
       "      <td>(2, 3)</td>\n",
       "      <td>[0.9666666666666667, 0.9666666666666667, 0.933...</td>\n",
       "      <td>0.96</td>\n",
       "      <td>(petal length (cm), petal width (cm))</td>\n",
       "      <td>0.0320608</td>\n",
       "      <td>0.0249444</td>\n",
       "      <td>0.0124722</td>\n",
       "    </tr>\n",
       "    <tr>\n",
       "      <th>12</th>\n",
       "      <td>(0, 2, 3)</td>\n",
       "      <td>[0.9666666666666667, 0.9666666666666667, 0.933...</td>\n",
       "      <td>0.966667</td>\n",
       "      <td>(sepal length (cm), petal length (cm), petal w...</td>\n",
       "      <td>0.0270963</td>\n",
       "      <td>0.0210819</td>\n",
       "      <td>0.0105409</td>\n",
       "    </tr>\n",
       "    <tr>\n",
       "      <th>13</th>\n",
       "      <td>(1, 2, 3)</td>\n",
       "      <td>[0.9666666666666667, 0.9666666666666667, 0.933...</td>\n",
       "      <td>0.966667</td>\n",
       "      <td>(sepal width (cm), petal length (cm), petal wi...</td>\n",
       "      <td>0.0270963</td>\n",
       "      <td>0.0210819</td>\n",
       "      <td>0.0105409</td>\n",
       "    </tr>\n",
       "    <tr>\n",
       "      <th>14</th>\n",
       "      <td>(0, 1, 2, 3)</td>\n",
       "      <td>[0.9666666666666667, 1.0, 0.9333333333333333, ...</td>\n",
       "      <td>0.973333</td>\n",
       "      <td>(sepal length (cm), sepal width (cm), petal le...</td>\n",
       "      <td>0.0320608</td>\n",
       "      <td>0.0249444</td>\n",
       "      <td>0.0124722</td>\n",
       "    </tr>\n",
       "  </tbody>\n",
       "</table>\n",
       "</div>"
      ],
      "text/plain": [
       "     feature_idx                                          cv_scores avg_score  \\\n",
       "1           (1,)  [0.5333333333333333, 0.5666666666666667, 0.533...  0.566667   \n",
       "0           (0,)  [0.6666666666666666, 0.7333333333333333, 0.766...  0.753333   \n",
       "4         (0, 1)  [0.7333333333333333, 0.8333333333333334, 0.766...  0.813333   \n",
       "8         (1, 3)  [0.9333333333333333, 0.9666666666666667, 0.9, ...      0.94   \n",
       "11     (0, 1, 3)  [0.9, 0.9666666666666667, 0.9333333333333333, ...  0.946667   \n",
       "2           (2,)  [0.9333333333333333, 1.0, 0.9, 0.9333333333333...  0.953333   \n",
       "5         (0, 2)  [0.9333333333333333, 1.0, 0.9, 0.9333333333333...  0.953333   \n",
       "6         (0, 3)  [0.9333333333333333, 0.9666666666666667, 0.933...  0.953333   \n",
       "7         (1, 2)  [0.9333333333333333, 1.0, 0.9, 0.9333333333333...  0.953333   \n",
       "10     (0, 1, 2)  [0.9333333333333333, 1.0, 0.9, 0.9333333333333...  0.953333   \n",
       "3           (3,)  [1.0, 0.9666666666666667, 0.9, 0.9333333333333...      0.96   \n",
       "9         (2, 3)  [0.9666666666666667, 0.9666666666666667, 0.933...      0.96   \n",
       "12     (0, 2, 3)  [0.9666666666666667, 0.9666666666666667, 0.933...  0.966667   \n",
       "13     (1, 2, 3)  [0.9666666666666667, 0.9666666666666667, 0.933...  0.966667   \n",
       "14  (0, 1, 2, 3)  [0.9666666666666667, 1.0, 0.9333333333333333, ...  0.973333   \n",
       "\n",
       "                                        feature_names   ci_bound    std_dev  \\\n",
       "1                                 (sepal width (cm),)  0.0469322  0.0365148   \n",
       "0                                (sepal length (cm),)  0.0696117  0.0541603   \n",
       "4               (sepal length (cm), sepal width (cm))  0.0696117  0.0541603   \n",
       "8                (sepal width (cm), petal width (cm))  0.0320608  0.0249444   \n",
       "11  (sepal length (cm), sepal width (cm), petal wi...  0.0436915  0.0339935   \n",
       "2                                (petal length (cm),)  0.0514116       0.04   \n",
       "5              (sepal length (cm), petal length (cm))  0.0514116       0.04   \n",
       "6               (sepal length (cm), petal width (cm))  0.0342744  0.0266667   \n",
       "7               (sepal width (cm), petal length (cm))  0.0514116       0.04   \n",
       "10  (sepal length (cm), sepal width (cm), petal le...  0.0514116       0.04   \n",
       "3                                 (petal width (cm),)  0.0499631   0.038873   \n",
       "9               (petal length (cm), petal width (cm))  0.0320608  0.0249444   \n",
       "12  (sepal length (cm), petal length (cm), petal w...  0.0270963  0.0210819   \n",
       "13  (sepal width (cm), petal length (cm), petal wi...  0.0270963  0.0210819   \n",
       "14  (sepal length (cm), sepal width (cm), petal le...  0.0320608  0.0249444   \n",
       "\n",
       "      std_err  \n",
       "1   0.0182574  \n",
       "0   0.0270801  \n",
       "4   0.0270801  \n",
       "8   0.0124722  \n",
       "11  0.0169967  \n",
       "2        0.02  \n",
       "5        0.02  \n",
       "6   0.0133333  \n",
       "7        0.02  \n",
       "10       0.02  \n",
       "3   0.0194365  \n",
       "9   0.0124722  \n",
       "12  0.0105409  \n",
       "13  0.0105409  \n",
       "14  0.0124722  "
      ]
     },
     "execution_count": 20,
     "metadata": {},
     "output_type": "execute_result"
    }
   ],
   "source": [
    "# Show the performance of each subset of features\n",
    "efs_results = pd.DataFrame.from_dict(efs.get_metric_dict()).T\n",
    "efs_results.sort_values(by='avg_score', ascending=True, inplace=True)\n",
    "efs_results"
   ]
  },
  {
   "cell_type": "markdown",
   "metadata": {
    "_uuid": "5c7aaa391b397264ba5226774f401ec4a9089ba0"
   },
   "source": [
    "Let's visualize the performance of each subset of features by creating a horizontal bar chart:"
   ]
  },
  {
   "cell_type": "code",
   "execution_count": 21,
   "metadata": {
    "_uuid": "4a2d477f70a3ddcc0e4a142a45690a5c944aabbf"
   },
   "outputs": [
    {
     "data": {
      "image/png": "[encoded data removed]",
      "text/plain": [
       "<Figure size 864x648 with 1 Axes>"
      ]
     },
     "metadata": {},
     "output_type": "display_data"
    }
   ],
   "source": [
    "# Create a horizontal bar chart for visualizing \n",
    "# the performance of each subset of features\n",
    "fig, ax = plt.subplots(figsize=(12,9))\n",
    "y_pos = np.arange(len(efs_results))\n",
    "ax.barh(y_pos, \n",
    "        efs_results['avg_score'],\n",
    "        xerr=efs_results['std_dev'],\n",
    "        color='tomato')\n",
    "ax.set_yticks(y_pos)\n",
    "ax.set_yticklabels(efs_results['feature_names'])\n",
    "ax.set_xlabel('Accuracy')\n",
    "plt.show()"
   ]
  },
  {
   "cell_type": "markdown",
   "metadata": {
    "_uuid": "0e0c280526111b96607a5a6a01e60d054e0e23d3"
   },
   "source": [
    "<a id='section 2.2.'></a>"
   ]
  },
  {
   "cell_type": "markdown",
   "metadata": {
    "_uuid": "f93d25f8b2322938944b4693ea2eae390976479e"
   },
   "source": [
    "## 2.2. Sequential Forward Selection (SFS)\n",
    "SFS finds the best subset of feature by adding a feature that best improves the model at each iteration. \n",
    "\n",
    "Mlxtend provides **SequentialFeatureSelector** function to perform SFS."
   ]
  },
  {
   "cell_type": "code",
   "execution_count": 22,
   "metadata": {
    "_uuid": "b7a1cd66d7b4560ef138ccaa8a48145754da3c77"
   },
   "outputs": [],
   "source": [
    "# Import SequentialFeatureSelector from Mlxtend\n",
    "from mlxtend.feature_selection import SequentialFeatureSelector as SFS"
   ]
  },
  {
   "cell_type": "markdown",
   "metadata": {
    "_uuid": "7d37414ed7bf6d930a9452e9ea103ba0a825e29c"
   },
   "source": [
    "EFS has five important parameters:\n",
    "- *estimator*: the classifier that we intend to train\n",
    "- *k_features*: the number of features to select. A tuple containing a min and max value can be provided, and the SFS will consider return any feature combination between min and max that scored highest in cross-validtion.\n",
    "- *forward*: use SFS if True and use SBS if False \n",
    "- *scoring*: the metric to use to evaluate the classifier\n",
    "- *cv*: the number of cross-validations to perform\n",
    "\n",
    "In this example, we use logistic regression as our classifier/estimator. "
   ]
  },
  {
   "cell_type": "code",
   "execution_count": 23,
   "metadata": {
    "_uuid": "8e8355e69a2b6afc60628f3945b03a59b7357738"
   },
   "outputs": [
    {
     "name": "stdout",
     "output_type": "stream",
     "text": [
      "Best accuracy score: 0.97\n",
      "Best subset (indices): (0, 1, 2, 3)\n",
      "Best subset (corresponding names): ('sepal length (cm)', 'sepal width (cm)', 'petal length (cm)', 'petal width (cm)')\n"
     ]
    }
   ],
   "source": [
    "# Create a logistic regression classifier\n",
    "lr = LogisticRegression()\n",
    "\n",
    "# Create an SFS object\n",
    "sfs = SFS(estimator=lr,       # Use logistic regression as our classifier\n",
    "          k_features=(1, 4),  # Consider any feature combination between 1 and 4\n",
    "          forward=True,       # Set forward to True when we want to perform SFS\n",
    "          scoring='accuracy', # The metric to use to evaluate the classifier is accuracy \n",
    "          cv=5)               # The number of cross-validations to perform is 5\n",
    "\n",
    "# Train SFS with our dataset\n",
    "sfs = sfs.fit(X_data, y_data)\n",
    "\n",
    "# Print the results\n",
    "print('Best accuracy score: %.2f' % sfs.k_score_)   # k_score_ shows the best score \n",
    "print('Best subset (indices):', sfs.k_feature_idx_) # k_feature_idx_ shows the index of features \n",
    "                                                    # that yield the best score\n",
    "print('Best subset (corresponding names):', sfs.k_feature_names_) # k_feature_names_ shows the feature names \n",
    "                                                                  # that yield the best score"
   ]
  },
  {
   "cell_type": "markdown",
   "metadata": {
    "_uuid": "d267e19061faa24a03a706767d3dacb9acb1bfc0"
   },
   "source": [
    "We can transform the dataset into a new dataset containing only the subset of features that generates the best score by using **transform** method."
   ]
  },
  {
   "cell_type": "code",
   "execution_count": 24,
   "metadata": {
    "_uuid": "422b9dcc0e1e424ecd78084db294ce42f3eaba3d"
   },
   "outputs": [
    {
     "name": "stdout",
     "output_type": "stream",
     "text": [
      "Number of features before transformation: 4\n",
      "Number of features after transformation: 4\n"
     ]
    }
   ],
   "source": [
    "# Transform the dataset\n",
    "X_data_new = sfs.transform(X_data)\n",
    "\n",
    "# Print the results\n",
    "print('Number of features before transformation: {}'.format(X_data.shape[1]))\n",
    "print('Number of features after transformation: {}'.format(X_data_new.shape[1]))"
   ]
  },
  {
   "cell_type": "markdown",
   "metadata": {
    "_uuid": "43065277a0c3dd29f481428e24c84620590d4a35"
   },
   "source": [
    "There is no difference between the dataset after and before the transformation because the subset that yields the best score include all of the features.\n",
    "\n",
    "We can see the performance of each subset of features considered by SFS by calling **subsets_**."
   ]
  },
  {
   "cell_type": "code",
   "execution_count": 25,
   "metadata": {
    "_uuid": "1e8ce6e2b8343c0dfd270ee7ce9a12fc07e87b56"
   },
   "outputs": [
    {
     "data": {
      "text/html": [
       "<div>\n",
       "<style scoped>\n",
       "    .dataframe tbody tr th:only-of-type {\n",
       "        vertical-align: middle;\n",
       "    }\n",
       "\n",
       "    .dataframe tbody tr th {\n",
       "        vertical-align: top;\n",
       "    }\n",
       "\n",
       "    .dataframe thead th {\n",
       "        text-align: right;\n",
       "    }\n",
       "</style>\n",
       "<table border=\"1\" class=\"dataframe\">\n",
       "  <thead>\n",
       "    <tr style=\"text-align: right;\">\n",
       "      <th></th>\n",
       "      <th>feature_idx</th>\n",
       "      <th>cv_scores</th>\n",
       "      <th>avg_score</th>\n",
       "      <th>feature_names</th>\n",
       "    </tr>\n",
       "  </thead>\n",
       "  <tbody>\n",
       "    <tr>\n",
       "      <th>1</th>\n",
       "      <td>(3,)</td>\n",
       "      <td>[1.0, 0.9666666666666667, 0.9, 0.9333333333333...</td>\n",
       "      <td>0.96</td>\n",
       "      <td>(petal width (cm),)</td>\n",
       "    </tr>\n",
       "    <tr>\n",
       "      <th>2</th>\n",
       "      <td>(2, 3)</td>\n",
       "      <td>[0.9666666666666667, 0.9666666666666667, 0.933...</td>\n",
       "      <td>0.96</td>\n",
       "      <td>(petal length (cm), petal width (cm))</td>\n",
       "    </tr>\n",
       "    <tr>\n",
       "      <th>3</th>\n",
       "      <td>(0, 2, 3)</td>\n",
       "      <td>[0.9666666666666667, 0.9666666666666667, 0.933...</td>\n",
       "      <td>0.966667</td>\n",
       "      <td>(sepal length (cm), petal length (cm), petal w...</td>\n",
       "    </tr>\n",
       "    <tr>\n",
       "      <th>4</th>\n",
       "      <td>(0, 1, 2, 3)</td>\n",
       "      <td>[0.9666666666666667, 1.0, 0.9333333333333333, ...</td>\n",
       "      <td>0.973333</td>\n",
       "      <td>(sepal length (cm), sepal width (cm), petal le...</td>\n",
       "    </tr>\n",
       "  </tbody>\n",
       "</table>\n",
       "</div>"
      ],
      "text/plain": [
       "    feature_idx                                          cv_scores avg_score  \\\n",
       "1          (3,)  [1.0, 0.9666666666666667, 0.9, 0.9333333333333...      0.96   \n",
       "2        (2, 3)  [0.9666666666666667, 0.9666666666666667, 0.933...      0.96   \n",
       "3     (0, 2, 3)  [0.9666666666666667, 0.9666666666666667, 0.933...  0.966667   \n",
       "4  (0, 1, 2, 3)  [0.9666666666666667, 1.0, 0.9333333333333333, ...  0.973333   \n",
       "\n",
       "                                       feature_names  \n",
       "1                                (petal width (cm),)  \n",
       "2              (petal length (cm), petal width (cm))  \n",
       "3  (sepal length (cm), petal length (cm), petal w...  \n",
       "4  (sepal length (cm), sepal width (cm), petal le...  "
      ]
     },
     "execution_count": 25,
     "metadata": {},
     "output_type": "execute_result"
    }
   ],
   "source": [
    "# Show the performance of each subset of features considered by SFS\n",
    "sfs_results = pd.DataFrame.from_dict(sfs.subsets_).T \n",
    "sfs_results"
   ]
  },
  {
   "cell_type": "markdown",
   "metadata": {
    "_uuid": "37182791bd454b829a311b67f5e8407998088bfb"
   },
   "source": [
    "Let's visualize the performance of each subset of features by creating a horizontal bar chart:"
   ]
  },
  {
   "cell_type": "code",
   "execution_count": 26,
   "metadata": {
    "_uuid": "306d633aab3632dacc7dc791702fc5396e5bf011"
   },
   "outputs": [
    {
     "data": {
      "image/png": "[encoded data removed]",
      "text/plain": [
       "<Figure size 432x144 with 1 Axes>"
      ]
     },
     "metadata": {},
     "output_type": "display_data"
    }
   ],
   "source": [
    "# Create a horizontal bar chart for visualizing \n",
    "# the performance of each subset of features\n",
    "fig, ax = plt.subplots(figsize=(6,2))\n",
    "y_pos = np.arange(len(sfs_results))\n",
    "ax.barh(y_pos, \n",
    "        sfs_results['avg_score'], \n",
    "        color='tomato')\n",
    "ax.set_yticks(y_pos)\n",
    "ax.set_yticklabels(sfs_results['feature_names'])\n",
    "ax.set_xlabel('Accuracy')\n",
    "plt.show()"
   ]
  },
  {
   "cell_type": "markdown",
   "metadata": {
    "_uuid": "59b3aa96cd744138898204e427db41f5b36004fb"
   },
   "source": [
    "<a id='section 2.3.'></a>"
   ]
  },
  {
   "cell_type": "markdown",
   "metadata": {
    "_uuid": "1e9c2ee2b68fc38e93064b30b99e14fa5c9aca5b"
   },
   "source": [
    "### 2.3. Sequential Backward Selection (SBS)\n",
    "SBS is the opposite of SFS. SBS starts with all features and removes the feature that has the least importance to the model at each iteration. \n",
    "\n",
    "To perform SBS use, we can use **SequentialFeatureSelector** by Mlxtend. This is the same function that we use to perform SFS. The different is we have to set the *k_features* parameter to False. "
   ]
  },
  {
   "cell_type": "code",
   "execution_count": 27,
   "metadata": {
    "_uuid": "91b1e09d7e7527de6f755679867ac4531a203883"
   },
   "outputs": [
    {
     "name": "stdout",
     "output_type": "stream",
     "text": [
      "Best accuracy score: 0.97\n",
      "Best subset (indices): (0, 1, 2, 3)\n",
      "Best subset (corresponding names): ('sepal length (cm)', 'sepal width (cm)', 'petal length (cm)', 'petal width (cm)')\n"
     ]
    }
   ],
   "source": [
    "# Create a logistic regression classifier\n",
    "lr = LogisticRegression()\n",
    "\n",
    "# Create an SBS object\n",
    "sbs = SFS(estimator=lr,       # Use logistic regression as our classifier\n",
    "          k_features=(1, 4),  # Consider any feature combination between 1 and 4\n",
    "          forward=False,      # Set forward to False when we want to perform SBS\n",
    "          scoring='accuracy', # The metric to use to evaluate the classifier is accuracy \n",
    "          cv=5)               # The number of cross-validations to perform is 5\n",
    "\n",
    "# Train SBS with our dataset\n",
    "sbs = sbs.fit(X_data.values, y_data, custom_feature_names=feature_names)\n",
    "\n",
    "# Print the results\n",
    "print('Best accuracy score: %.2f' % sbs.k_score_)   # k_score_ shows the best score \n",
    "print('Best subset (indices):', sbs.k_feature_idx_) # k_feature_idx_ shows the index of features \n",
    "                                                    # that yield the best score\n",
    "print('Best subset (corresponding names):', sbs.k_feature_names_) # k_feature_names_ shows the feature names \n",
    "                                                                  # that yield the best score"
   ]
  },
  {
   "cell_type": "markdown",
   "metadata": {
    "_uuid": "586ab8aae6c4ed870f371bea23fbcf165092487c"
   },
   "source": [
    "We can transform the dataset into a new dataset containing only the subset of features that generates the best score by using **transform** method."
   ]
  },
  {
   "cell_type": "code",
   "execution_count": 28,
   "metadata": {
    "_uuid": "c9a853cb952cfcc4dbd574d27eeca0f12b24a1b6"
   },
   "outputs": [
    {
     "name": "stdout",
     "output_type": "stream",
     "text": [
      "Number of features before transformation: 4\n",
      "Number of features after transformation: 4\n"
     ]
    }
   ],
   "source": [
    "# Transform the dataset\n",
    "X_data_new = sbs.transform(X_data)\n",
    "\n",
    "# Print the results\n",
    "print('Number of features before transformation: {}'.format(X_data.shape[1]))\n",
    "print('Number of features after transformation: {}'.format(X_data_new.shape[1]))"
   ]
  },
  {
   "cell_type": "markdown",
   "metadata": {
    "_uuid": "51a38ca19f48c9d69740e17d2913a363f3d923ac"
   },
   "source": [
    "There is no difference between the dataset after and before the transformation because the subset that yields the best score include all of the features.\n",
    "\n",
    "We can see the performance of each subset of features considered by SFS by calling **subsets_**."
   ]
  },
  {
   "cell_type": "code",
   "execution_count": 29,
   "metadata": {
    "_uuid": "dc3e50f00ccf963171a3ba4ef38af9e1dbc2b404"
   },
   "outputs": [
    {
     "data": {
      "text/html": [
       "<div>\n",
       "<style scoped>\n",
       "    .dataframe tbody tr th:only-of-type {\n",
       "        vertical-align: middle;\n",
       "    }\n",
       "\n",
       "    .dataframe tbody tr th {\n",
       "        vertical-align: top;\n",
       "    }\n",
       "\n",
       "    .dataframe thead th {\n",
       "        text-align: right;\n",
       "    }\n",
       "</style>\n",
       "<table border=\"1\" class=\"dataframe\">\n",
       "  <thead>\n",
       "    <tr style=\"text-align: right;\">\n",
       "      <th></th>\n",
       "      <th>feature_idx</th>\n",
       "      <th>cv_scores</th>\n",
       "      <th>avg_score</th>\n",
       "      <th>feature_names</th>\n",
       "    </tr>\n",
       "  </thead>\n",
       "  <tbody>\n",
       "    <tr>\n",
       "      <th>4</th>\n",
       "      <td>(0, 1, 2, 3)</td>\n",
       "      <td>[0.9666666666666667, 1.0, 0.9333333333333333, ...</td>\n",
       "      <td>0.973333</td>\n",
       "      <td>(sepal length (cm), sepal width (cm), petal le...</td>\n",
       "    </tr>\n",
       "    <tr>\n",
       "      <th>3</th>\n",
       "      <td>(0, 2, 3)</td>\n",
       "      <td>[0.9666666666666667, 0.9666666666666667, 0.933...</td>\n",
       "      <td>0.966667</td>\n",
       "      <td>(sepal length (cm), petal length (cm), petal w...</td>\n",
       "    </tr>\n",
       "    <tr>\n",
       "      <th>2</th>\n",
       "      <td>(2, 3)</td>\n",
       "      <td>[0.9666666666666667, 0.9666666666666667, 0.933...</td>\n",
       "      <td>0.96</td>\n",
       "      <td>(petal length (cm), petal width (cm))</td>\n",
       "    </tr>\n",
       "    <tr>\n",
       "      <th>1</th>\n",
       "      <td>(3,)</td>\n",
       "      <td>[1.0, 0.9666666666666667, 0.9, 0.9333333333333...</td>\n",
       "      <td>0.96</td>\n",
       "      <td>(petal width (cm),)</td>\n",
       "    </tr>\n",
       "  </tbody>\n",
       "</table>\n",
       "</div>"
      ],
      "text/plain": [
       "    feature_idx                                          cv_scores avg_score  \\\n",
       "4  (0, 1, 2, 3)  [0.9666666666666667, 1.0, 0.9333333333333333, ...  0.973333   \n",
       "3     (0, 2, 3)  [0.9666666666666667, 0.9666666666666667, 0.933...  0.966667   \n",
       "2        (2, 3)  [0.9666666666666667, 0.9666666666666667, 0.933...      0.96   \n",
       "1          (3,)  [1.0, 0.9666666666666667, 0.9, 0.9333333333333...      0.96   \n",
       "\n",
       "                                       feature_names  \n",
       "4  (sepal length (cm), sepal width (cm), petal le...  \n",
       "3  (sepal length (cm), petal length (cm), petal w...  \n",
       "2              (petal length (cm), petal width (cm))  \n",
       "1                                (petal width (cm),)  "
      ]
     },
     "execution_count": 29,
     "metadata": {},
     "output_type": "execute_result"
    }
   ],
   "source": [
    "# Show the performance of each subset of features considered by SBS\n",
    "sbs_results = pd.DataFrame.from_dict(sbs.subsets_).T\n",
    "sbs_results"
   ]
  },
  {
   "cell_type": "markdown",
   "metadata": {
    "_uuid": "ea357d827fbc12db00dd731e5cc264d2413b76be"
   },
   "source": [
    "Let's visualize the performance of each subset of features by creating a horizontal bar chart:"
   ]
  },
  {
   "cell_type": "code",
   "execution_count": 30,
   "metadata": {
    "_uuid": "eaa90a9ce558e02bdee1f727408a9c35e55245ba"
   },
   "outputs": [
    {
     "data": {
      "image/png": "[encoded data removed]",
      "text/plain": [
       "<Figure size 432x144 with 1 Axes>"
      ]
     },
     "metadata": {},
     "output_type": "display_data"
    }
   ],
   "source": [
    "# Create a horizontal bar chart for visualizing \n",
    "# the performance of each subset of features\n",
    "fig, ax = plt.subplots(figsize=(6,2))\n",
    "y_pos = np.arange(len(sbs_results))\n",
    "ax.barh(y_pos, \n",
    "        sbs_results['avg_score'], \n",
    "        color='tomato')\n",
    "ax.set_yticks(y_pos)\n",
    "ax.set_yticklabels(sbs_results['feature_names'])\n",
    "ax.set_xlabel('Accuracy')\n",
    "plt.show()"
   ]
  },
  {
   "cell_type": "markdown",
   "metadata": {
    "_uuid": "205707b6e2c8f97c761826936fcc9b21b3c8f98b"
   },
   "source": [
    "Let's compare the selection generated by EFS, SFS, and SBS."
   ]
  },
  {
   "cell_type": "code",
   "execution_count": 31,
   "metadata": {
    "_uuid": "c00506a61cfdf4d1ccbdf08d7873cbca791216e6"
   },
   "outputs": [
    {
     "name": "stdout",
     "output_type": "stream",
     "text": [
      "Best subset by EFS: ('sepal length (cm)', 'sepal width (cm)', 'petal length (cm)', 'petal width (cm)')\n",
      "Best subset by SFS: ('sepal length (cm)', 'sepal width (cm)', 'petal length (cm)', 'petal width (cm)')\n",
      "Best subset by SBS: ('sepal length (cm)', 'sepal width (cm)', 'petal length (cm)', 'petal width (cm)')\n"
     ]
    }
   ],
   "source": [
    "# Compare the selection generated by EFS, SFS, and SBS\n",
    "print('Best subset by EFS:', efs.best_feature_names_)\n",
    "print('Best subset by SFS:', sfs.k_feature_names_)\n",
    "print('Best subset by SBS:', sbs.k_feature_names_)"
   ]
  },
  {
   "cell_type": "markdown",
   "metadata": {
    "_uuid": "426c50e0afa99d74f61ccf455fac051584444523"
   },
   "source": [
    "In this simple scenario, selecting the best combination of features out of the 4 available features in the Iris set, we end up with similar results regardless of which selection algorithms we used. In other cases with larger dataset and higher number of features, the selection is highly likely to be different for each selection algorithm."
   ]
  },
  {
   "cell_type": "markdown",
   "metadata": {
    "_uuid": "b4fe75e9e79ea4d9ec0a72d999e5bd0ed6dc8359"
   },
   "source": [
    "<a id='section 3.0.'></a>"
   ]
  },
  {
   "cell_type": "markdown",
   "metadata": {
    "_uuid": "0a500ffd934637cf5fc4743440888f4a2a48ed7d"
   },
   "source": [
    "# 3.0. Embedded Methods\n",
    "Embedded methods combine the strong points of filter and wrapper methods by taking advantage of machine algorithms that have their own built-in feature selection process. They integrate a feature selection step as a part of the training process (i.e., feature selection and training process are performed simultaneously). Embedded methods generally have a more efficient process than wrapper methods because they eliminate the need to retrain every single subset of features being examined. Some of machine algorithms that can be used for feature selection are:\n",
    "- LASSO regression\n",
    "- Ridge regression\n",
    "- Decision tree\n",
    "- Random forest\n",
    "- Support vector machine\n",
    "\n",
    "In the next section, we will focus on feature selection using random forest."
   ]
  },
  {
   "cell_type": "markdown",
   "metadata": {
    "_uuid": "74ae37cedd99aabfd46a120f63e0f13cd03835fd"
   },
   "source": [
    "## 3.1. Feature Selection Using Random Forest\n",
    "Random forest is one of the most popular learning algorithms used for feature selection in a data science workflow. As explained by Chris Albon:\n",
    ">*\"... the tree-based strategies used by random forests naturally ranks by how well they improve the purity of the node. This mean decrease in impurity over all trees (called gini impurity). Nodes with the greatest decrease in impurity happen at the start of the trees, while notes with the least decrease in impurity occur at the end of trees. Thus, by pruning trees below a particular node, we can create a subset of the most important features.\"*\n",
    "\n",
    "To perform feature selection using random forest classifier, let's first import **RandomForestClassifier** from Scikit-learn."
   ]
  },
  {
   "cell_type": "code",
   "execution_count": 32,
   "metadata": {
    "_uuid": "dc561f0a64cc539d98dfa59e529ff0842afc6b8c"
   },
   "outputs": [],
   "source": [
    "# Import RandomForestClassifier from Scikit-learn\n",
    "from sklearn.ensemble import RandomForestClassifier"
   ]
  },
  {
   "cell_type": "markdown",
   "metadata": {
    "_uuid": "8a44ba666bede5519afe0baabc7b8d5f99cfcd27"
   },
   "source": [
    "We need to split our dataset into train and test split because the feature selection is a part of the training process. "
   ]
  },
  {
   "cell_type": "code",
   "execution_count": 33,
   "metadata": {
    "_uuid": "45577a0bbdcd724d93bd5c32761667ecae8f15f3"
   },
   "outputs": [],
   "source": [
    "# Import train_test_split from Scikit-learn\n",
    "from sklearn.model_selection import train_test_split\n",
    "\n",
    "# Split the dataset into 30% test and 70% training\n",
    "X_train, X_test, y_train, y_test = train_test_split(X_data, y_data, test_size=0.3, random_state=0)"
   ]
  },
  {
   "cell_type": "markdown",
   "metadata": {
    "_uuid": "f21eb7d53cb9fa4c040af771bd7211c65206a53e"
   },
   "source": [
    "Please note that we use gini criterion to define feature importance. There are other criteria of importance, but we only limit our discussion to gini criterion."
   ]
  },
  {
   "cell_type": "code",
   "execution_count": 34,
   "metadata": {
    "_uuid": "6573b92667ea21612d5e0315a696be32b33df8c3"
   },
   "outputs": [
    {
     "name": "stdout",
     "output_type": "stream",
     "text": [
      "('sepal length (cm)', 0.102443508848457)\n",
      "('sepal width (cm)', 0.023647097298179886)\n",
      "('petal length (cm)', 0.479778346415163)\n",
      "('petal width (cm)', 0.39413104743820015)\n"
     ]
    }
   ],
   "source": [
    "# Create a random forest classifier\n",
    "rfc = RandomForestClassifier(random_state=0, \n",
    "                             criterion='gini') # Use gini criterion to define feature importance\n",
    "\n",
    "# Train the classifier\n",
    "rfc.fit(X_train, y_train)\n",
    "\n",
    "# Print the name and gini importance of each feature\n",
    "for feature in zip(feature_names, rfc.feature_importances_): \n",
    "    print(feature)"
   ]
  },
  {
   "cell_type": "markdown",
   "metadata": {
    "_uuid": "da4eba2b4860620583cc7c2dc58508d65b48d8c1"
   },
   "source": [
    "If we add up all the importance scores, the result is 100%. As we can see, **petal length** and **petal width** correspond to 83% of the total importance score. They are clearly the most important features!"
   ]
  },
  {
   "cell_type": "markdown",
   "metadata": {
    "_uuid": "cceaa21433523a91a399b77d458b6e3f822f8221"
   },
   "source": [
    "## 3.2. Using Selector Object for Selecting Features\n",
    "We can use **SelectFromModel** from Scikit-learn to select features according to a threshold of feature importance. First, we need to import **SelectKBest**."
   ]
  },
  {
   "cell_type": "code",
   "execution_count": 35,
   "metadata": {
    "_uuid": "2b2ad1c6acbe048f6a39085af8564a974848dee5"
   },
   "outputs": [],
   "source": [
    "from sklearn.feature_selection import SelectFromModel"
   ]
  },
  {
   "cell_type": "markdown",
   "metadata": {
    "_uuid": "f6aaaed9c9dcfd6eeb78ed3259c63165ac91b74b"
   },
   "source": [
    "**SelectFromModel** has two important parameters:\n",
    "- *estimator*: the machine learning algorithm used to select features\n",
    "- *threshold*: the threshold value to use for feature selection. Features whose importance is greater or equal are kept while the others are discarded.\n",
    "\n",
    "Let's demonstrate **SelectFromModel** by a random forest classifier with gini importance. We will select features that have importance above 0.2. "
   ]
  },
  {
   "cell_type": "code",
   "execution_count": 36,
   "metadata": {
    "_uuid": "e7e04dd30a9519671fd75e606574a739096ee5d1"
   },
   "outputs": [
    {
     "name": "stdout",
     "output_type": "stream",
     "text": [
      "The most important features based on random forest classifier:\n",
      "- petal length (cm)\n",
      "- petal width (cm)\n"
     ]
    }
   ],
   "source": [
    "# Create a random forest classifier\n",
    "rfc = RandomForestClassifier(random_state=0, \n",
    "                             criterion='gini') # Use gini criterion to define feature importance\n",
    "\n",
    "# Create a SelectFromModel object \n",
    "sfm = SelectFromModel(estimator=rfc, # Use random forest classifier to identify features\n",
    "                      threshold=0.2) # that have an importance of more than 0.2\n",
    "\n",
    "# Train the selector\n",
    "sfm = sfm.fit(X_train, y_train)\n",
    "\n",
    "# Print the names of the most important features\n",
    "print('The most important features based on random forest classifier:')\n",
    "for feature_list_index in sfm.get_support(indices=True):\n",
    "    print('- ' + feature_names[feature_list_index])"
   ]
  },
  {
   "cell_type": "markdown",
   "metadata": {
    "_uuid": "3b87b04aa4e9f2e5af9be1312255011025b2b7aa"
   },
   "source": [
    "We can transform the dataset into a new dataset containing only the most important features by using **transform** method."
   ]
  },
  {
   "cell_type": "code",
   "execution_count": 37,
   "metadata": {
    "_uuid": "5926f33e5c899d992395bf781ac21230f794426b"
   },
   "outputs": [
    {
     "name": "stdout",
     "output_type": "stream",
     "text": [
      "Number of features before transformation: 4\n",
      "Number of features after transformation: 2\n"
     ]
    }
   ],
   "source": [
    "# Transform the dataset\n",
    "X_important_train = sfm.transform(X_train)\n",
    "X_important_test = sfm.transform(X_test)\n",
    "\n",
    "# Print the results\n",
    "print('Number of features before transformation: {}'.format(X_train.shape[1]))\n",
    "print('Number of features after transformation: {}'.format(X_important_train.shape[1]))"
   ]
  },
  {
   "cell_type": "markdown",
   "metadata": {
    "_uuid": "f2a16bf2dd91cf67b3d871d2bf4bb2765f9a2c3c"
   },
   "source": [
    "## 3.3. Comparing the Accuracy of Classifier with Full Features and with Limited Features\n",
    "Let's compare the accuracy of a classifier with full features and a classifier with limited features (i.e., the top two important features based on random forest classifier)."
   ]
  },
  {
   "cell_type": "code",
   "execution_count": 38,
   "metadata": {
    "_uuid": "4f4d9f6b691fe2b6004d020a055b92a131f84de4"
   },
   "outputs": [],
   "source": [
    "# Import accuracy_score from Scikit-learn\n",
    "from sklearn.metrics import accuracy_score"
   ]
  },
  {
   "cell_type": "code",
   "execution_count": 39,
   "metadata": {
    "_uuid": "32ad93060353f407067c8d084b612cccbab51bec"
   },
   "outputs": [
    {
     "name": "stdout",
     "output_type": "stream",
     "text": [
      "The accuracy of classifier with full features: 0.98\n"
     ]
    }
   ],
   "source": [
    "# Create a random forest classifier\n",
    "rfc_full = RandomForestClassifier(random_state=0, criterion='gini')\n",
    "\n",
    "# Train the classifier using dataset with full features\n",
    "rfc_full.fit(X_train, y_train)\n",
    "\n",
    "# Make predictions\n",
    "pred_full = rfc_full.predict(X_test)\n",
    "\n",
    "# Generate accuracy score\n",
    "print('The accuracy of classifier with full features: {:.2f}'.format(accuracy_score(y_test, pred_full)))"
   ]
  },
  {
   "cell_type": "code",
   "execution_count": 40,
   "metadata": {
    "_uuid": "f21ff9452ded3ab168a2632ad8bea9e4670dbb71"
   },
   "outputs": [
    {
     "name": "stdout",
     "output_type": "stream",
     "text": [
      "The accuracy of classifier with limited features: 0.98\n"
     ]
    }
   ],
   "source": [
    "# Create a random forest classifier\n",
    "rfc_lim = RandomForestClassifier(random_state=0, criterion='gini')\n",
    "\n",
    "# Train the classifier with limited features\n",
    "rfc_lim.fit(X_important_train, y_train)\n",
    "\n",
    "# Make predictions\n",
    "pred_lim = rfc_lim.predict(X_important_test)\n",
    "\n",
    "# Generate accuracy score\n",
    "print('The accuracy of classifier with limited features: {:.2f}'.format(accuracy_score(y_test, pred_lim)))"
   ]
  },
  {
   "cell_type": "markdown",
   "metadata": {
    "_uuid": "793a6a406a0fc404203e375603e4dfd6948e5f02"
   },
   "source": [
    "It can be seen that we can reduce the number of features without significantly reduce the performance of the model."
   ]
  },
  {
   "cell_type": "markdown",
   "metadata": {
    "_uuid": "8053a71bec4608d932585a8a3244c80b3fe6b251"
   },
   "source": [
    "# References\n",
    "This notebook cannot be created without the following references:"
   ]
  },
  {
   "cell_type": "markdown",
   "metadata": {
    "_uuid": "c29d8092ac59fda4ec34b5d778c8a47e8baab80d"
   },
   "source": [
    "- [Feature Selection Using Random Forest by Chris Albon](https://chrisalbon.com/machine_learning/trees_and_forests/feature_selection_using_random_forest/)\n",
    "- [Why, How and When to apply Feature Selection](https://towardsdatascience.com/why-how-and-when-to-apply-feature-selection-e9c69adfabf2)\n",
    "- [Introduction to Feature Selection methods with an example](https://www.analyticsvidhya.com/blog/2016/12/introduction-to-feature-selection-methods-with-an-example-or-how-to-select-the-right-variables/)\n",
    "- [An Introduction to Feature Selection](https://machinelearningmastery.com/an-introduction-to-feature-selection/)\n",
    "- [Beginner's Guide to Feature Selection in Python](https://www.datacamp.com/community/tutorials/feature-selection-python)\n",
    "- [Sequential Feature Selector](http://rasbt.github.io/mlxtend/user_guide/feature_selection/SequentialFeatureSelector/)"
   ]
  },
  {
   "cell_type": "code",
   "execution_count": null,
   "metadata": {
    "_uuid": "3b86f27555a17a1a82ae02dc19d8c0f0e8f39218",
    "collapsed": true,
    "jupyter": {
     "outputs_hidden": true
    }
   },
   "outputs": [],
   "source": []
  }
 ],
 "metadata": {
  "kernelspec": {
   "display_name": "Python 3",
   "language": "python",
   "name": "python3"
  },
  "language_info": {
   "codemirror_mode": {
    "name": "ipython",
    "version": 3
   },
   "file_extension": ".py",
   "mimetype": "text/x-python",
   "name": "python",
   "nbconvert_exporter": "python",
   "pygments_lexer": "ipython3",
   "version": "3.8.5"
  }
 },
 "nbformat": 4,
 "nbformat_minor": 4
}
